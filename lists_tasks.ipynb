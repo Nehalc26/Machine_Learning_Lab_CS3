{
  "nbformat": 4,
  "nbformat_minor": 0,
  "metadata": {
    "colab": {
      "name": "lists_tasks.ipynb",
      "provenance": [],
      "include_colab_link": true
    },
    "kernelspec": {
      "name": "python3",
      "display_name": "Python 3"
    }
  },
  "cells": [
    {
      "cell_type": "markdown",
      "metadata": {
        "id": "view-in-github",
        "colab_type": "text"
      },
      "source": [
        "<a href=\"https://colab.research.google.com/github/Nehalc26/Machine_Learning_Lab_CS3/blob/master/lists_tasks.ipynb\" target=\"_parent\"><img src=\"https://colab.research.google.com/assets/colab-badge.svg\" alt=\"Open In Colab\"/></a>"
      ]
    },
    {
      "cell_type": "code",
      "metadata": {
        "id": "fhBxEUxOQwom",
        "colab_type": "code",
        "outputId": "c9c7e2e0-74de-4d8b-bd5f-9eb86c6bdfa0",
        "colab": {
          "base_uri": "https://localhost:8080/",
          "height": 72
        }
      },
      "source": [
        "# list creation\n",
        "countries = ['India', 'Australia', 'USA']\n",
        "\n",
        "# print whole list\n",
        "print(countries)\n",
        "\n",
        "# Accessing list elements\n",
        "print(\"Value at 0 index: \",countries[0])\n",
        "\n",
        "# assignning new value to index\n",
        "countries[0]='Germany'\n",
        "\n",
        "print(\"New value at index 0: \",countries[0])"
      ],
      "execution_count": 1,
      "outputs": [
        {
          "output_type": "stream",
          "text": [
            "['India', 'Australia', 'USA']\n",
            "Value at 0 index:  India\n",
            "New value at index 0:  Germany\n"
          ],
          "name": "stdout"
        }
      ]
    },
    {
      "cell_type": "code",
      "metadata": {
        "id": "CfhHcPpQQ_kQ",
        "colab_type": "code",
        "outputId": "9115e26e-edf8-4d4e-f485-eb33938601ec",
        "colab": {
          "base_uri": "https://localhost:8080/",
          "height": 109
        }
      },
      "source": [
        "hybridlists=['My name is',\n",
        "             'I am in',\n",
        "             3,\n",
        "             'Semester']\n",
        "\n",
        "print(hybridlists)\n",
        "\n",
        "# we can access the elements of list using loops\n",
        "\n",
        "for item in hybridlists:\n",
        "    print(item)"
      ],
      "execution_count": 3,
      "outputs": [
        {
          "output_type": "stream",
          "text": [
            "['My name is', 'I am in', 3, 'Semester']\n",
            "My name is\n",
            "I am in\n",
            "3\n",
            "Semester\n"
          ],
          "name": "stdout"
        }
      ]
    },
    {
      "cell_type": "code",
      "metadata": {
        "id": "Neymepy5RD42",
        "colab_type": "code",
        "outputId": "845514d4-667a-4ebf-842b-2083e8001b03",
        "colab": {
          "base_uri": "https://localhost:8080/",
          "height": 109
        }
      },
      "source": [
        "# print the index number with value\n",
        "\n",
        "countries = ['India', 'Australia', 'USA']\n",
        "\n",
        "for index, country in enumerate(countries):\n",
        "    place = str(index)\n",
        "    print(\"Index: \" + place + \", Value: \" + country)\n",
        "    \n",
        "# find index of\n",
        "index = countries.index('India') \n",
        "print(\"\\n Index of India is: \",index)"
      ],
      "execution_count": 2,
      "outputs": [
        {
          "output_type": "stream",
          "text": [
            "Index: 0, Value: India\n",
            "Index: 1, Value: Australia\n",
            "Index: 2, Value: USA\n",
            "\n",
            " Index of India is:  0\n"
          ],
          "name": "stdout"
        }
      ]
    },
    {
      "cell_type": "code",
      "metadata": {
        "id": "6-X0ky9iRJ5E",
        "colab_type": "code",
        "outputId": "03eb91af-5210-429f-f102-4299d63905e5",
        "colab": {
          "base_uri": "https://localhost:8080/",
          "height": 35
        }
      },
      "source": [
        "\n",
        "# Remove the last country from the list by index or by value\n",
        "del countries[2]\n",
        "\n",
        "print(countries)"
      ],
      "execution_count": 4,
      "outputs": [
        {
          "output_type": "stream",
          "text": [
            "['India', 'Australia']\n"
          ],
          "name": "stdout"
        }
      ]
    },
    {
      "cell_type": "code",
      "metadata": {
        "id": "XmBUHnhKRRhk",
        "colab_type": "code",
        "outputId": "275c4126-0e94-4137-a2a7-77f64cf54e7f",
        "colab": {
          "base_uri": "https://localhost:8080/",
          "height": 35
        }
      },
      "source": [
        "# without comprehension\n",
        "\n",
        "cubes = []\n",
        "for x in [1, 2, 3, 4, 5]:\n",
        "    cubes.append(x ** 3) \n",
        "    \n",
        "print(cubes)"
      ],
      "execution_count": 5,
      "outputs": [
        {
          "output_type": "stream",
          "text": [
            "[1, 8, 27, 64, 125]\n"
          ],
          "name": "stdout"
        }
      ]
    },
    {
      "cell_type": "code",
      "metadata": {
        "id": "QoRkAw2hRYe-",
        "colab_type": "code",
        "outputId": "56140ee6-0139-4256-8fb4-6e8d0ef3007e",
        "colab": {
          "base_uri": "https://localhost:8080/",
          "height": 35
        }
      },
      "source": [
        "# with comprehension\n",
        "  \n",
        "cubes= [x**3 for x in [1, 2, 3, 4, 5]]\n",
        "print(cubes)"
      ],
      "execution_count": 6,
      "outputs": [
        {
          "output_type": "stream",
          "text": [
            "[1, 8, 27, 64, 125]\n"
          ],
          "name": "stdout"
        }
      ]
    },
    {
      "cell_type": "code",
      "metadata": {
        "id": "lJUpJ1J6RgHt",
        "colab_type": "code",
        "outputId": "7ccb2b3f-6132-4314-ff4a-b418b63f4df6",
        "colab": {
          "base_uri": "https://localhost:8080/",
          "height": 35
        }
      },
      "source": [
        "numbers=[1,2,3,4,5,6,7,8,9,10]\n",
        "list=[x for x in numbers]\n",
        "list"
      ],
      "execution_count": 7,
      "outputs": [
        {
          "output_type": "execute_result",
          "data": {
            "text/plain": [
              "[1, 2, 3, 4, 5, 6, 7, 8, 9, 10]"
            ]
          },
          "metadata": {
            "tags": []
          },
          "execution_count": 7
        }
      ]
    },
    {
      "cell_type": "code",
      "metadata": {
        "id": "WLFRcZu2RmcW",
        "colab_type": "code",
        "outputId": "288489dd-8307-4d67-ce0e-9de705bf33a0",
        "colab": {
          "base_uri": "https://localhost:8080/",
          "height": 256
        }
      },
      "source": [
        "# Declaring Job Profiles\n",
        "Job_Profile = ['Driver', 'Writer', 'Manager', 'Teacher']\n",
        "\n",
        "# Finding index of Manager\n",
        "Manager_idx = Job_Profile.index('Manager')\n",
        "print(\"Index of 'Manager' is\", Manager_idx)\n",
        "print()\n",
        "\n",
        "# Checking whether Poet is in our list or not\n",
        "print('Poet' in Job_Profile)\n",
        "print()\n",
        "\n",
        "# Appending Poet in Job_Profile\n",
        "Job_Profile.append('Poet')\n",
        "print(Job_Profile)\n",
        "print()\n",
        "\n",
        "# Inserting Python Programmer at begining of list\n",
        "Job_Profile.insert(0, 'Python Programmer')\n",
        "print()\n",
        "\n",
        "for Job in Job_Profile:\n",
        "  print(Job)"
      ],
      "execution_count": 8,
      "outputs": [
        {
          "output_type": "stream",
          "text": [
            "Index of 'Manager' is 2\n",
            "\n",
            "False\n",
            "\n",
            "['Driver', 'Writer', 'Manager', 'Teacher', 'Poet']\n",
            "\n",
            "\n",
            "Python Programmer\n",
            "Driver\n",
            "Writer\n",
            "Manager\n",
            "Teacher\n",
            "Poet\n"
          ],
          "name": "stdout"
        }
      ]
    },
    {
      "cell_type": "code",
      "metadata": {
        "id": "iRIART00Rpnz",
        "colab_type": "code",
        "outputId": "b22edc1b-f1fc-44e8-ae38-954e0fb999cd",
        "colab": {
          "base_uri": "https://localhost:8080/",
          "height": 127
        }
      },
      "source": [
        "# Making the list\n",
        "Famous_Persons = ['Virat Kohli', 'Hritik Roshan', 'Vishwanathan Anand', 'Satya Nadella', 'Elon Musk' ]\n",
        "\n",
        "# Removing list item\n",
        "del Famous_Persons[2]\n",
        "print(Famous_Persons)\n",
        "\n",
        "Famous_Persons.remove('Satya Nadella')\n",
        "print(Famous_Persons)\n",
        "\n",
        "Famous_Persons.pop()\n",
        "print(Famous_Persons)\n",
        "\n",
        "Famous_Persons.pop(0)\n",
        "print(Famous_Persons)\n",
        "\n",
        "Famous_Persons.pop()\n",
        "print(Famous_Persons)\n",
        "\n",
        "print(\"No Famous People are left into the list.\")"
      ],
      "execution_count": 9,
      "outputs": [
        {
          "output_type": "stream",
          "text": [
            "['Virat Kohli', 'Hritik Roshan', 'Satya Nadella', 'Elon Musk']\n",
            "['Virat Kohli', 'Hritik Roshan', 'Elon Musk']\n",
            "['Virat Kohli', 'Hritik Roshan']\n",
            "['Hritik Roshan']\n",
            "[]\n",
            "No Famous People are left into the list.\n"
          ],
          "name": "stdout"
        }
      ]
    },
    {
      "cell_type": "code",
      "metadata": {
        "id": "pzWsfsOfRvtu",
        "colab_type": "code",
        "outputId": "06c33fd9-5222-4b2c-9809-a668f44a3474",
        "colab": {
          "base_uri": "https://localhost:8080/",
          "height": 72
        }
      },
      "source": [
        "# Making the alphabet list\n",
        "Alphabet = ['a', 'b', 'c', 'd', 'e', 'f', 'g', 'h', 'i', 'j']\n",
        "\n",
        "# Printing out First 3 letters\n",
        "print(Alphabet[:3])\n",
        "\n",
        "# Printing out any 3 letters from middle\n",
        "print(Alphabet[3:6])\n",
        "\n",
        "# Printing out last 5 elements\n",
        "print(Alphabet[5:])"
      ],
      "execution_count": 10,
      "outputs": [
        {
          "output_type": "stream",
          "text": [
            "['a', 'b', 'c']\n",
            "['d', 'e', 'f']\n",
            "['f', 'g', 'h', 'i', 'j']\n"
          ],
          "name": "stdout"
        }
      ]
    },
    {
      "cell_type": "code",
      "metadata": {
        "id": "wdBDFDoAR7Lw",
        "colab_type": "code",
        "outputId": "b46d7c03-1166-42e6-c425-f66055985ed2",
        "colab": {
          "base_uri": "https://localhost:8080/",
          "height": 219
        }
      },
      "source": [
        "# Making The List\n",
        "People_Orig = ['Honey', 'Bunny', 'Toney']\n",
        "\n",
        "# Making a Copy\n",
        "People_Copy = People_Orig[:]\n",
        "\n",
        "# Adding 2 People\n",
        "People_Copy.append('Goluu')\n",
        "People_Copy.append('Chintoo')\n",
        "\n",
        "# Displaying Original List\n",
        "print(\"This is the Original List...\")\n",
        "for name in People_Orig:\n",
        "  print(name)\n",
        "\n",
        "print()\n",
        "# Displaying Copied List\n",
        "print(\"This is the copied List...\")\n",
        "for name in People_Copy:\n",
        "  print(name)"
      ],
      "execution_count": 11,
      "outputs": [
        {
          "output_type": "stream",
          "text": [
            "This is the Original List...\n",
            "Honey\n",
            "Bunny\n",
            "Toney\n",
            "\n",
            "This is the copied List...\n",
            "Honey\n",
            "Bunny\n",
            "Toney\n",
            "Goluu\n",
            "Chintoo\n"
          ],
          "name": "stdout"
        }
      ]
    },
    {
      "cell_type": "code",
      "metadata": {
        "id": "r_W4fvjQSDVy",
        "colab_type": "code",
        "outputId": "b5e2c4cc-e34e-44db-fb33-78063be138d5",
        "colab": {
          "base_uri": "https://localhost:8080/",
          "height": 109
        }
      },
      "source": [
        "Marks = [12, 14, 15, 10, 11, 10, 13, 14, 13, 12, 15, 11, 12, 13, 14]\n",
        "\n",
        "print(\"Maximum marks obtained: \", max(Marks))\n",
        "print(\"Minimum marks obtained: \", min(Marks))\n",
        "print(\"Sum of marks obtained: \", sum(Marks))\n",
        "print(\"Average marks obtained: \", sum(Marks)/15)\n",
        "\n",
        "rev_marks = Marks[::-1]\n",
        "print(\"Reversed list is: \", rev_marks)"
      ],
      "execution_count": 12,
      "outputs": [
        {
          "output_type": "stream",
          "text": [
            "Maximum marks obtained:  15\n",
            "Minimum marks obtained:  10\n",
            "Sum of marks obtained:  189\n",
            "Average marks obtained:  12.6\n",
            "Reversed list is:  [14, 13, 12, 11, 15, 12, 13, 14, 13, 10, 11, 10, 15, 14, 12]\n"
          ],
          "name": "stdout"
        }
      ]
    },
    {
      "cell_type": "code",
      "metadata": {
        "id": "e6N7i4keSJvU",
        "colab_type": "code",
        "outputId": "7f58b078-aeb6-4a4e-b8e3-09fff06cd8e2",
        "colab": {
          "base_uri": "https://localhost:8080/",
          "height": 164
        }
      },
      "source": [
        "n = int(input(\"Enter any number: \"))\n",
        "Numbers = []\n",
        "\n",
        "for i in range(n):\n",
        "  Num = int(input(\"Enter the number: \"))\n",
        "  Numbers.append(Num)\n",
        "\n",
        "print(\"Initial List: \", Numbers)\n",
        "\n",
        "for i in Numbers:\n",
        "  if i%2 != 0:\n",
        "    Numbers.remove(i)\n",
        "\n",
        "print(\"Updated List: \", Numbers)"
      ],
      "execution_count": 13,
      "outputs": [
        {
          "output_type": "stream",
          "text": [
            "Enter any number: 5\n",
            "Enter the number: 2\n",
            "Enter the number: 3\n",
            "Enter the number: 98\n",
            "Enter the number: 5\n",
            "Enter the number: 4\n",
            "Initial List:  [2, 3, 98, 5, 4]\n",
            "Updated List:  [2, 98, 4]\n"
          ],
          "name": "stdout"
        }
      ]
    },
    {
      "cell_type": "code",
      "metadata": {
        "id": "AEQ06_xhSdx_",
        "colab_type": "code",
        "outputId": "e46a1ddb-849e-4a7f-8b98-25218c1f0938",
        "colab": {
          "base_uri": "https://localhost:8080/",
          "height": 256
        }
      },
      "source": [
        "# Creating Empty List\n",
        "Countries = []\n",
        "\n",
        "n = int(input(\"Enter number of countries: \"))\n",
        "\n",
        "for _ in range(n):\n",
        "  Name = input(\"Enter name of the country: \")\n",
        "  Countries.append(Name)\n",
        "\n",
        "for name in Countries:\n",
        "  if name == 'India':\n",
        "    print(name + \" is Great.\")\n",
        "  else:\n",
        "    print(name)"
      ],
      "execution_count": 14,
      "outputs": [
        {
          "output_type": "stream",
          "text": [
            "Enter number of countries: 6\n",
            "Enter name of the country: a\n",
            "Enter name of the country: \n",
            "Enter name of the country: d\n",
            "Enter name of the country: f\n",
            "Enter name of the country: h\n",
            "Enter name of the country: r\n",
            "a\n",
            "\n",
            "d\n",
            "f\n",
            "h\n",
            "r\n"
          ],
          "name": "stdout"
        }
      ]
    },
    {
      "cell_type": "markdown",
      "metadata": {
        "id": "9p4wHTYvS9jM",
        "colab_type": "text"
      },
      "source": [
        "Program 8: Write a Python program to find the list in a list of lists whose sum of elements is the highest.\n",
        "Sample lists: [[1,2,3], [4,5,6], [10,11,12], [7,8,9]] Expected Output: [10, 11, 12]"
      ]
    },
    {
      "cell_type": "code",
      "metadata": {
        "id": "K1oCQJF-Sy5z",
        "colab_type": "code",
        "outputId": "bc4c5291-5355-4f1c-c1d4-e0e6069a59a4",
        "colab": {
          "base_uri": "https://localhost:8080/",
          "height": 35
        }
      },
      "source": [
        "# Creating The List\n",
        "Nested_list = [[1, 2, 3], [4, 5, 6], [10, 11, 12], [7, 8, 9]]\n",
        "\n",
        "# Finding The List With Highest Sum\n",
        "i = 0\n",
        "Sum = 0\n",
        "for List in Nested_list:\n",
        "  S = sum(List)\n",
        "  if S >= Sum:\n",
        "    Sum = S\n",
        "    idx = i\n",
        "\n",
        "  i = i + 1\n",
        "\n",
        "print(Nested_list[idx])"
      ],
      "execution_count": 15,
      "outputs": [
        {
          "output_type": "stream",
          "text": [
            "[10, 11, 12]\n"
          ],
          "name": "stdout"
        }
      ]
    }
  ]
}